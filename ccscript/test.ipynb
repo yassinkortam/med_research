{
 "cells": [
  {
   "cell_type": "code",
   "execution_count": 1,
   "metadata": {},
   "outputs": [
    {
     "name": "stdout",
     "output_type": "stream",
     "text": [
      "{'First Heading': ['', 'This is the first section.', ''], 'Second Heading': [' This is the second section.']}\n"
     ]
    }
   ],
   "source": [
    "import columator\n",
    "report = \"\"\"\n",
    "First Heading:\n",
    "This is the first section.\n",
    "\n",
    "Second Heading: This is the second section.\n",
    "Third Heading: This is the third section.\n",
    "\"\"\"\n",
    "headings = [\"First Heading\", \"Second Heading\"]\n",
    "print(columator.columator(report, headings))"
   ]
  }
 ],
 "metadata": {
  "kernelspec": {
   "display_name": "Python 3",
   "language": "python",
   "name": "python3"
  },
  "language_info": {
   "codemirror_mode": {
    "name": "ipython",
    "version": 3
   },
   "file_extension": ".py",
   "mimetype": "text/x-python",
   "name": "python",
   "nbconvert_exporter": "python",
   "pygments_lexer": "ipython3",
   "version": "3.11.2"
  },
  "orig_nbformat": 4
 },
 "nbformat": 4,
 "nbformat_minor": 2
}
