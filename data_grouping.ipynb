{
 "cells": [
  {
   "cell_type": "code",
   "execution_count": null,
   "metadata": {},
   "outputs": [],
   "source": [
    "import pandas as pd\n",
    "import numpy as np\n",
    "\n",
    "#Converts a pandas dataframe into a dictionary \n",
    "#Groups together data entries with like markers\n",
    "def groupData(marker, raw_data):\n",
    "    grouped_data = dict()\n",
    "    raw_data.reset_index()\n",
    "\n",
    "    for index, row in raw_data.iterrows():\n",
    "        entry = dict()\n",
    "        marker_value = None\n",
    "        \n",
    "        for column in raw_data.columns:\n",
    "            if column != marker:\n",
    "                entry[column] = row[column]\n",
    "            else:\n",
    "                marker_value = row[column]\n",
    "        if marker_value not in grouped_data.keys():\n",
    "            grouped_data[marker_value] = np.array([])\n",
    "        grouped_data[marker_value] = np.append(grouped_data[marker_value], entry)\n",
    "        \n",
    "    return grouped_data"
   ]
  },
  {
   "cell_type": "code",
   "execution_count": null,
   "metadata": {},
   "outputs": [],
   "source": [
    "#Load example data and group together entries with like markers\n",
    "sample_data = pd.read_csv(\"./shoes.csv\")\n",
    "marker = \"IDNUM\"\n",
    "workable_data = groupData(marker, sample_data)\n",
    "\n",
    "d = {'Rows (original)' : sample_data.shape[0],\n",
    "    'Rows (grouped)' : len(workable_data.keys()),\n",
    "    'Duplicates' : sample_data.shape[0] - len(workable_data.keys())\n",
    "    }\n",
    "    \n",
    "print(pd.DataFrame(data = d, index=[0]).transpose())"
   ]
  },
  {
   "cell_type": "code",
   "execution_count": null,
   "metadata": {},
   "outputs": [],
   "source": [
    "#Find correlation matrix of data entries\n",
    "import matplotlib.pyplot as plt\n",
    "correllations = pd.get_dummies(sample_data).corr()\n",
    "print(correllations)\n",
    "plt.matshow(correllations)\n",
    "plt.show()"
   ]
  }
 ],
 "metadata": {
  "kernelspec": {
   "display_name": "Python 3",
   "language": "python",
   "name": "python3"
  },
  "language_info": {
   "codemirror_mode": {
    "name": "ipython",
    "version": 3
   },
   "file_extension": ".py",
   "mimetype": "text/x-python",
   "name": "python",
   "nbconvert_exporter": "python",
   "pygments_lexer": "ipython3",
   "version": "3.9.2"
  },
  "orig_nbformat": 4,
  "vscode": {
   "interpreter": {
    "hash": "aee8b7b246df8f9039afb4144a1f6fd8d2ca17a180786b69acc140d282b71a49"
   }
  }
 },
 "nbformat": 4,
 "nbformat_minor": 2
}
