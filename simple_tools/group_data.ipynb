{
 "cells": [
  {
   "cell_type": "code",
   "execution_count": null,
   "metadata": {},
   "outputs": [],
   "source": [
    "############################################################################\n",
    "#            COPYRIGHT (C) YASSIN KORTAM - ALL RIGHTS RESERVED             #\n",
    "# UNAUTHORIZED COPYING OF THIS FILE, VIA ANY MEDIUM IS STRICTLY PROHIBITED #\n",
    "#                       PROPRIETARY AND CONFIDENTIAL                       #\n",
    "#    WRITTEN BY YASSIN KORTAM <YASSINKORTAM@G.UCLA.EDU>, MARCH 2023        #\n",
    "############################################################################\n",
    "\n",
    "import pandas as pd"
   ]
  },
  {
   "attachments": {},
   "cell_type": "markdown",
   "metadata": {},
   "source": [
    "# Group Data\n",
    "- Given a dataframe, a column to group by, and a column to order by, delete all the rows that cause duplicates in the column to group by. \n",
    "- The rows that are kept are the ones with the smallest value in the column to order by."
   ]
  },
  {
   "cell_type": "code",
   "execution_count": null,
   "metadata": {},
   "outputs": [],
   "source": [
    "def group_data(data, group_by, order_by):\n",
    "    '''\n",
    "    Given a dataframe, a column to group by, and a column to order by, delete all the \\\n",
    "    rows that cause duplicates in the column to group by. The rows that are kept are \\\n",
    "    the ones with the smallest value in the column to order by.\n",
    "\n",
    "    Args:\n",
    "        - str\n",
    "        - str\n",
    "        - str\n",
    "    \n",
    "    Returns:\n",
    "        - DataFrame\n",
    "    '''\n",
    "    \n",
    "    try:\n",
    "        data = data.sort_values(by=order_by, ascending=True)\n",
    "    except KeyError:\n",
    "        raise KeyError(\"The given column name does not exist in the source csv file\")\n",
    "    \n",
    "    try:\n",
    "        data = data.drop_duplicates(subset=group_by, keep='first')\n",
    "    except KeyError:\n",
    "        raise KeyError(\"The given column name does not exist in the source csv file\")\n",
    "    \n",
    "    return data\n",
    "\n",
    "#Print the duplicated rows in a dataframe\n",
    "def duplicates(data, group_by):\n",
    "    '''\n",
    "    Print the duplicated rows in a dataframe\n",
    "\n",
    "    Args:\n",
    "        - DataFrame\n",
    "        - str\n",
    "    \n",
    "    Returns:\n",
    "        - DataFrame\n",
    "    '''\n",
    "    \n",
    "    try:\n",
    "        data = data[data.duplicated(subset=group_by, keep='last')]\n",
    "    except KeyError:\n",
    "        raise KeyError(\"The given column name does not exist in the source csv file\")\n",
    "    \n",
    "    return data"
   ]
  },
  {
   "attachments": {},
   "cell_type": "markdown",
   "metadata": {},
   "source": [
    "# Finding Duplicates"
   ]
  },
  {
   "cell_type": "code",
   "execution_count": null,
   "metadata": {},
   "outputs": [],
   "source": [
    "#Filtering one spreadsheet\n",
    "source = 'data.xlsx'\n",
    "order_by = 'Date of study' #MM/DD/YYYY\n",
    "group_by = 'MRN'\n",
    "\n",
    "data = pd.read_excel(source)\n",
    "\n",
    "#convert the dates to datetime objects\n",
    "data[order_by] = pd.to_datetime(data[order_by], format='%m/%d/%Y')\n",
    "\n",
    "#Print the duplicated rows\n",
    "duplicated = duplicates(data, group_by)\n",
    "print(\"%s rows are duplicated:\" % duplicated.shape[0])\n",
    "duplicated"
   ]
  },
  {
   "attachments": {},
   "cell_type": "markdown",
   "metadata": {},
   "source": [
    "# Removing Duplicates"
   ]
  },
  {
   "cell_type": "code",
   "execution_count": null,
   "metadata": {},
   "outputs": [],
   "source": [
    "#Group the data\n",
    "data = group_data(data, group_by, order_by)\n",
    "data"
   ]
  },
  {
   "cell_type": "code",
   "execution_count": null,
   "metadata": {},
   "outputs": [],
   "source": [
    "#Export the filtered spreadsheet\n",
    "data.to_excel('filtered_data.xlsx', index=False)"
   ]
  }
 ],
 "metadata": {
  "kernelspec": {
   "display_name": "Python 3",
   "language": "python",
   "name": "python3"
  },
  "language_info": {
   "codemirror_mode": {
    "name": "ipython",
    "version": 3
   },
   "file_extension": ".py",
   "mimetype": "text/x-python",
   "name": "python",
   "nbconvert_exporter": "python",
   "pygments_lexer": "ipython3",
   "version": "3.11.2"
  },
  "orig_nbformat": 4
 },
 "nbformat": 4,
 "nbformat_minor": 2
}
