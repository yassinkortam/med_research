{
 "cells": [
  {
   "cell_type": "code",
   "execution_count": null,
   "metadata": {},
   "outputs": [],
   "source": [
    "############################################################################\n",
    "#            COPYRIGHT (C) YASSIN KORTAM - ALL RIGHTS RESERVED             #\n",
    "# UNAUTHORIZED COPYING OF THIS FILE, VIA ANY MEDIUM IS STRICTLY PROHIBITED #\n",
    "#                       PROPRIETARY AND CONFIDENTIAL                       #\n",
    "#    WRITTEN BY YASSIN KORTAM <YASSINKORTAM@G.UCLA.EDU>, MARCH 2023        #\n",
    "############################################################################\n",
    "\n",
    "import pandas as pd\n",
    "from sentence_transformers import SentenceTransformer\n",
    "from sklearn.metrics.pairwise import cosine_similarity"
   ]
  },
  {
   "attachments": {},
   "cell_type": "markdown",
   "metadata": {},
   "source": [
    "# Filter by Keywords\n",
    "- Given a dataframe, a column of interest, and keywords, filter the dataframe such that only rows with the keywords are saved.\n",
    "- It is determined if a row contains a keyword by checking the cosine similarity between the text in the given column and the keyword delete all other rows."
   ]
  },
  {
   "cell_type": "code",
   "execution_count": null,
   "metadata": {},
   "outputs": [],
   "source": [
    "def filter_by_keywords(df, column, keywords):\n",
    "    '''\n",
    "    Filter a dataframe by keywords.\n",
    "\n",
    "    Args:\n",
    "        - DataFrame\n",
    "        - str\n",
    "        - list\n",
    "\n",
    "    Returns:\n",
    "        - DataFrame\n",
    "    '''\n",
    "    #Get the text in the given column\n",
    "    text = df[column].tolist()\n",
    "\n",
    "    #Get the embeddings of the keywords\n",
    "    model = SentenceTransformer('paraphrase-MiniLM-L6-v2')\n",
    "    keywords_embeddings = model.encode(keywords)\n",
    "\n",
    "    indices = []\n",
    "\n",
    "    #Get the embeddings of the text\n",
    "    for sentence in text:\n",
    "        if type(sentence) != str:\n",
    "            indices.append(False)\n",
    "            continue\n",
    "        sentence_embeddings = model.encode(sentence.split())\n",
    "        cosine_similarities = cosine_similarity(sentence_embeddings, keywords_embeddings).flatten()\n",
    "        # check if any of the words have big similarity\n",
    "        if cosine_similarities.max() > 0.8:\n",
    "            indices.append(True)\n",
    "        else:\n",
    "            indices.append(False)\n",
    "            \n",
    "    #Filter the dataframe\n",
    "    removed = df[~pd.Series(indices)]\n",
    "    df = df.iloc[indices]\n",
    "    return df, removed"
   ]
  },
  {
   "attachments": {},
   "cell_type": "markdown",
   "metadata": {},
   "source": [
    "# Filtering a dataset"
   ]
  },
  {
   "cell_type": "code",
   "execution_count": null,
   "metadata": {},
   "outputs": [],
   "source": [
    "data = pd.read_excel('grouped_data.xlsx')\n",
    "column = 'History'\n",
    "keywords = ['HCC', 'HCC/cholangioCA', 'Hepatocellular', 'liver', 'hepatic']\n",
    "data, removed = filter_by_keywords(data, column, keywords)\n",
    "print(\"%s rows removed:\" % removed.shape[0])\n",
    "removed"
   ]
  },
  {
   "cell_type": "code",
   "execution_count": null,
   "metadata": {},
   "outputs": [],
   "source": [
    "# Save the filtered data\n",
    "data.to_excel('filtered_data.xlsx')"
   ]
  }
 ],
 "metadata": {
  "kernelspec": {
   "display_name": "base",
   "language": "python",
   "name": "python3"
  },
  "language_info": {
   "codemirror_mode": {
    "name": "ipython",
    "version": 3
   },
   "file_extension": ".py",
   "mimetype": "text/x-python",
   "name": "python",
   "nbconvert_exporter": "python",
   "pygments_lexer": "ipython3",
   "version": "3.9.13"
  },
  "orig_nbformat": 4
 },
 "nbformat": 4,
 "nbformat_minor": 2
}
